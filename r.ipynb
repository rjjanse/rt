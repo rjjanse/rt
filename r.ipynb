{
  "cells": [
    {
      "cell_type": "raw",
      "metadata": {},
      "source": [
        "---\n",
        "title: \"R\"\n",
        "author: \"Roemer J. Janse\"\n",
        "---"
      ],
      "id": "b9bde2eb"
    },
    {
      "cell_type": "markdown",
      "metadata": {},
      "source": [
        "```{css echo=FALSE}\n",
        ".button {\n",
        "    border: 2px solid black;\n",
        "}\n",
        "```\n",
        "\n",
        "\n",
        "## R: an introduction\n",
        "\n",
        "R is a programming language with a specific focus on statistical programming. A large part of the original R programming language took inspiration from the S programming language, where it also got its name (R being the successor of R in the alphabet). R first appeared in August 1993 and the first official R version 1.0 was released on the 29^th^ of February, 2000 ([Source](https://en.wikipedia.org/wiki/R_(programming_language))).\n",
        "\n",
        "## Installing R\n",
        "\n",
        "Let's start by installing R. R can be used on Windows, Apple, and Linux operating systems. To download R, you can go to <https://cran.rstudio.com>, where you can choose the download link applicable to your platform.\n",
        "\n",
        "After R is installed, you can open it and you will see the following screen:\n",
        "\n",
        "![R graphical user interface](images/rgui.png){#fig-r_gui fig-alt=\"R graphical user interface\" fig-align=\"center\"}\n",
        "\n",
        "In @fig-r_gui, you can see the R console, which allows you write code to subsequently yield results. However, as you might have noticed, the interface is quite limited in the information it shows you. This is why it is a good idea to install an Integrated Development Environment (also called an IDE).\n",
        "\n",
        "[Installing the RStudio IDE](rstudio.qmd)"
      ],
      "id": "75ad643f"
    }
  ],
  "metadata": {
    "kernelspec": {
      "display_name": "Python 3",
      "language": "python",
      "name": "python3"
    }
  },
  "nbformat": 4,
  "nbformat_minor": 5
}